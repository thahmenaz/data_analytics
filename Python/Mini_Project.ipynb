{
 "cells": [
  {
   "cell_type": "markdown",
   "metadata": {},
   "source": [
    "# Mini Project"
   ]
  },
  {
   "cell_type": "markdown",
   "metadata": {},
   "source": [
    "## 1. Ask the user for a number "
   ]
  },
  {
   "cell_type": "code",
   "execution_count": null,
   "metadata": {},
   "outputs": [],
   "source": [
    "## Ask the user for a number using input method.\n",
    "\n",
    "message= int(input(\"Please enter your favorite number \"))\n",
    "\n",
    "### Use modular to determine if number is even or odd; modular returns the remainder after division. \n",
    "    ### An even number will have a remainder of 0\n",
    "    ### An odd number will have a remainder of 1\n",
    "\n",
    "#### Use if, elif conditional test to run statements.\n",
    "\n",
    "    if message%2==1:\n",
    "        print(\"Your number,\" + str(message) + \", is odd.\")\n",
    "    \n",
    "    elif message%2==0:\n",
    "        print(\"Your number,\" + str(message) + \", even\")"
   ]
  },
  {
   "cell_type": "markdown",
   "metadata": {},
   "source": [
    "## 2. If the number is a multiple of 4, print out a different message"
   ]
  },
  {
   "cell_type": "code",
   "execution_count": null,
   "metadata": {},
   "outputs": [],
   "source": [
    "## Ask the user for a number using input method.\n",
    "message= int(input(\"Please enter your favorite number \"))\n",
    "\n",
    "### Use modular to determine if number is a multiple of 4; modular returns the remainder after division. \n",
    "    if message%4==0:\n",
    "        print(\"Your number,\" + str(message) + \", is a multiple of 4\")\n",
    "    else: \n",
    "        print(\"Your number,\" + str(message) + \", is not a multiple of 4\")"
   ]
  },
  {
   "cell_type": "markdown",
   "metadata": {},
   "source": [
    "## 3. Ask the user for two numbers; one to number to check and one number to divide by check "
   ]
  },
  {
   "cell_type": "code",
   "execution_count": null,
   "metadata": {},
   "outputs": [],
   "source": [
    "## Ask the user for two numbers using input method. \n",
    "### Create the variables, \"num\" and \"check\", for the different input values. \n",
    "\n",
    "num= int(input(\"Please enter a number \"))\n",
    "check= int(input(\"Please enter a number to divide by your first number \"))\n",
    "\n",
    "#### Use modular to determine if the numbers can evenly divide without a remainder. \n",
    "\n",
    "##### Use if, elif condiitonal test to run statements. \n",
    "\n",
    "    if num%check==0:\n",
    "        print(\"The number you chose,\" + str(num) + \", evenly divides with, \" + str(check) + \"!\" )\n",
    "    else: \n",
    "        print(\"The numbers you chose, \" + str(num) + str(check) + \"do not evenly divide!\")"
   ]
  },
  {
   "cell_type": "markdown",
   "metadata": {},
   "source": [
    "## 4. Write a custom function for finding whether the number is even or odd"
   ]
  },
  {
   "cell_type": "code",
   "execution_count": null,
   "metadata": {},
   "outputs": [],
   "source": [
    "## Create a custom function using the definition with \"number\" as the parameter.\n",
    "\n",
    "def custom_function(number):\n",
    "    \"\"\"This function displays whether the number is even or odd\"\"\"\n",
    "\n",
    "### Use modular to determine if the number is even or odd.\n",
    "\n",
    "#### Use conditional test with if, elif to determine if the statement is true (even) or false (odd).\n",
    "\n",
    "    if int(number)%2== 0: \n",
    "        print(\"The number is even\")\n",
    "    elif int(number)%2!=0: \n",
    "        print(\"The number is odd\")\n",
    "        \n",
    "##### Write paramter and enter number.\n",
    "\n",
    "custom_function('4')"
   ]
  },
  {
   "cell_type": "code",
   "execution_count": null,
   "metadata": {},
   "outputs": [],
   "source": []
  }
 ],
 "metadata": {
  "kernelspec": {
   "display_name": "Python 3",
   "language": "python",
   "name": "python3"
  },
  "language_info": {
   "codemirror_mode": {
    "name": "ipython",
    "version": 3
   },
   "file_extension": ".py",
   "mimetype": "text/x-python",
   "name": "python",
   "nbconvert_exporter": "python",
   "pygments_lexer": "ipython3",
   "version": "3.8.5"
  }
 },
 "nbformat": 4,
 "nbformat_minor": 4
}
